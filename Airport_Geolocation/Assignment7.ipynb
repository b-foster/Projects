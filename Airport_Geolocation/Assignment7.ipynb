{
 "cells": [
  {
   "cell_type": "markdown",
   "metadata": {},
   "source": [
    "# Assignment 7\n",
    "\n",
    "### Brett Foster\n",
    "\n",
    "##### DSC650-T303"
   ]
  },
  {
   "cell_type": "code",
   "execution_count": null,
   "metadata": {},
   "outputs": [],
   "source": []
  },
  {
   "cell_type": "code",
   "execution_count": 143,
   "metadata": {},
   "outputs": [],
   "source": [
    "import pandas as pd\n",
    "import numpy as np\n",
    "import matplotlib.pyplot as plt\n",
    "import os\n",
    "import hashlib\n",
    "import pygeohash as pgh\n",
    "from pathlib import Path\n",
    "import pyarrow as pa\n",
    "from pyarrow.json import read_json\n",
    "import pyarrow.parquet as pq"
   ]
  },
  {
   "cell_type": "code",
   "execution_count": null,
   "metadata": {},
   "outputs": [],
   "source": []
  },
  {
   "cell_type": "markdown",
   "metadata": {},
   "source": [
    "## 7a."
   ]
  },
  {
   "cell_type": "markdown",
   "metadata": {},
   "source": [
    "#### Specifies file paths"
   ]
  },
  {
   "cell_type": "code",
   "execution_count": 108,
   "metadata": {},
   "outputs": [],
   "source": [
    "current_dir = Path(os.getcwd()).absolute()\n",
    "data_dir = current_dir.joinpath('../assignment03/results')\n",
    "df_file = data_dir.joinpath('routes.parquet')\n",
    "results_dir = current_dir.joinpath('results')\n",
    "results_dir.mkdir(exist_ok=True, parents=True)\n",
    "kv_dir = results_dir.joinpath('kv')\n",
    "kv_dir.mkdir(exist_ok=True, parents=True)"
   ]
  },
  {
   "cell_type": "code",
   "execution_count": 99,
   "metadata": {},
   "outputs": [
    {
     "data": {
      "text/plain": [
       "WindowsPath('C:/datascience/dsc-650/repository/dsc650/dsc650/assignments/assignment07/results')"
      ]
     },
     "execution_count": 99,
     "metadata": {},
     "output_type": "execute_result"
    }
   ],
   "source": [
    "results_dir"
   ]
  },
  {
   "cell_type": "markdown",
   "metadata": {},
   "source": [
    "#### Loads the data from the routes.parquet file"
   ]
  },
  {
   "cell_type": "code",
   "execution_count": 10,
   "metadata": {},
   "outputs": [],
   "source": [
    "df = pd.read_parquet(df_file)"
   ]
  },
  {
   "cell_type": "code",
   "execution_count": 11,
   "metadata": {},
   "outputs": [
    {
     "data": {
      "text/html": [
       "<div>\n",
       "<style scoped>\n",
       "    .dataframe tbody tr th:only-of-type {\n",
       "        vertical-align: middle;\n",
       "    }\n",
       "\n",
       "    .dataframe tbody tr th {\n",
       "        vertical-align: top;\n",
       "    }\n",
       "\n",
       "    .dataframe thead th {\n",
       "        text-align: right;\n",
       "    }\n",
       "</style>\n",
       "<table border=\"1\" class=\"dataframe\">\n",
       "  <thead>\n",
       "    <tr style=\"text-align: right;\">\n",
       "      <th></th>\n",
       "      <th>airline</th>\n",
       "      <th>src_airport</th>\n",
       "      <th>dst_airport</th>\n",
       "      <th>codeshare</th>\n",
       "      <th>equipment</th>\n",
       "    </tr>\n",
       "  </thead>\n",
       "  <tbody>\n",
       "    <tr>\n",
       "      <th>0</th>\n",
       "      <td>{'airline_id': 410, 'name': 'Aerocondor', 'ali...</td>\n",
       "      <td>{'airport_id': 2965.0, 'name': 'Sochi Internat...</td>\n",
       "      <td>{'airport_id': 2990.0, 'name': 'Kazan Internat...</td>\n",
       "      <td>False</td>\n",
       "      <td>[CR2]</td>\n",
       "    </tr>\n",
       "    <tr>\n",
       "      <th>1</th>\n",
       "      <td>{'airline_id': 410, 'name': 'Aerocondor', 'ali...</td>\n",
       "      <td>{'airport_id': 2966.0, 'name': 'Astrakhan Airp...</td>\n",
       "      <td>{'airport_id': 2990.0, 'name': 'Kazan Internat...</td>\n",
       "      <td>False</td>\n",
       "      <td>[CR2]</td>\n",
       "    </tr>\n",
       "    <tr>\n",
       "      <th>2</th>\n",
       "      <td>{'airline_id': 410, 'name': 'Aerocondor', 'ali...</td>\n",
       "      <td>{'airport_id': 2966.0, 'name': 'Astrakhan Airp...</td>\n",
       "      <td>{'airport_id': 2962.0, 'name': 'Mineralnyye Vo...</td>\n",
       "      <td>False</td>\n",
       "      <td>[CR2]</td>\n",
       "    </tr>\n",
       "    <tr>\n",
       "      <th>3</th>\n",
       "      <td>{'airline_id': 410, 'name': 'Aerocondor', 'ali...</td>\n",
       "      <td>{'airport_id': 2968.0, 'name': 'Chelyabinsk Ba...</td>\n",
       "      <td>{'airport_id': 2990.0, 'name': 'Kazan Internat...</td>\n",
       "      <td>False</td>\n",
       "      <td>[CR2]</td>\n",
       "    </tr>\n",
       "    <tr>\n",
       "      <th>4</th>\n",
       "      <td>{'airline_id': 410, 'name': 'Aerocondor', 'ali...</td>\n",
       "      <td>{'airport_id': 2968.0, 'name': 'Chelyabinsk Ba...</td>\n",
       "      <td>{'airport_id': 4078.0, 'name': 'Tolmachevo Air...</td>\n",
       "      <td>False</td>\n",
       "      <td>[CR2]</td>\n",
       "    </tr>\n",
       "    <tr>\n",
       "      <th>...</th>\n",
       "      <td>...</td>\n",
       "      <td>...</td>\n",
       "      <td>...</td>\n",
       "      <td>...</td>\n",
       "      <td>...</td>\n",
       "    </tr>\n",
       "    <tr>\n",
       "      <th>67658</th>\n",
       "      <td>{'airline_id': 4178, 'name': 'Regional Express...</td>\n",
       "      <td>{'airport_id': 6334.0, 'name': 'Whyalla Airpor...</td>\n",
       "      <td>{'airport_id': 3341.0, 'name': 'Adelaide Inter...</td>\n",
       "      <td>False</td>\n",
       "      <td>[SF3]</td>\n",
       "    </tr>\n",
       "    <tr>\n",
       "      <th>67659</th>\n",
       "      <td>{'airline_id': 19016, 'name': 'Apache Air', 'a...</td>\n",
       "      <td>{'airport_id': 4029.0, 'name': 'Domodedovo Int...</td>\n",
       "      <td>{'airport_id': 2912.0, 'name': 'Manas Internat...</td>\n",
       "      <td>False</td>\n",
       "      <td>[734]</td>\n",
       "    </tr>\n",
       "    <tr>\n",
       "      <th>67660</th>\n",
       "      <td>{'airline_id': 19016, 'name': 'Apache Air', 'a...</td>\n",
       "      <td>{'airport_id': 2912.0, 'name': 'Manas Internat...</td>\n",
       "      <td>{'airport_id': 4029.0, 'name': 'Domodedovo Int...</td>\n",
       "      <td>False</td>\n",
       "      <td>[734]</td>\n",
       "    </tr>\n",
       "    <tr>\n",
       "      <th>67661</th>\n",
       "      <td>{'airline_id': 19016, 'name': 'Apache Air', 'a...</td>\n",
       "      <td>{'airport_id': 2912.0, 'name': 'Manas Internat...</td>\n",
       "      <td>{'airport_id': 2913.0, 'name': 'Osh Airport', ...</td>\n",
       "      <td>False</td>\n",
       "      <td>[734]</td>\n",
       "    </tr>\n",
       "    <tr>\n",
       "      <th>67662</th>\n",
       "      <td>{'airline_id': 19016, 'name': 'Apache Air', 'a...</td>\n",
       "      <td>{'airport_id': 2913.0, 'name': 'Osh Airport', ...</td>\n",
       "      <td>{'airport_id': 2912.0, 'name': 'Manas Internat...</td>\n",
       "      <td>False</td>\n",
       "      <td>[734]</td>\n",
       "    </tr>\n",
       "  </tbody>\n",
       "</table>\n",
       "<p>67663 rows × 5 columns</p>\n",
       "</div>"
      ],
      "text/plain": [
       "                                                 airline  \\\n",
       "0      {'airline_id': 410, 'name': 'Aerocondor', 'ali...   \n",
       "1      {'airline_id': 410, 'name': 'Aerocondor', 'ali...   \n",
       "2      {'airline_id': 410, 'name': 'Aerocondor', 'ali...   \n",
       "3      {'airline_id': 410, 'name': 'Aerocondor', 'ali...   \n",
       "4      {'airline_id': 410, 'name': 'Aerocondor', 'ali...   \n",
       "...                                                  ...   \n",
       "67658  {'airline_id': 4178, 'name': 'Regional Express...   \n",
       "67659  {'airline_id': 19016, 'name': 'Apache Air', 'a...   \n",
       "67660  {'airline_id': 19016, 'name': 'Apache Air', 'a...   \n",
       "67661  {'airline_id': 19016, 'name': 'Apache Air', 'a...   \n",
       "67662  {'airline_id': 19016, 'name': 'Apache Air', 'a...   \n",
       "\n",
       "                                             src_airport  \\\n",
       "0      {'airport_id': 2965.0, 'name': 'Sochi Internat...   \n",
       "1      {'airport_id': 2966.0, 'name': 'Astrakhan Airp...   \n",
       "2      {'airport_id': 2966.0, 'name': 'Astrakhan Airp...   \n",
       "3      {'airport_id': 2968.0, 'name': 'Chelyabinsk Ba...   \n",
       "4      {'airport_id': 2968.0, 'name': 'Chelyabinsk Ba...   \n",
       "...                                                  ...   \n",
       "67658  {'airport_id': 6334.0, 'name': 'Whyalla Airpor...   \n",
       "67659  {'airport_id': 4029.0, 'name': 'Domodedovo Int...   \n",
       "67660  {'airport_id': 2912.0, 'name': 'Manas Internat...   \n",
       "67661  {'airport_id': 2912.0, 'name': 'Manas Internat...   \n",
       "67662  {'airport_id': 2913.0, 'name': 'Osh Airport', ...   \n",
       "\n",
       "                                             dst_airport  codeshare equipment  \n",
       "0      {'airport_id': 2990.0, 'name': 'Kazan Internat...      False     [CR2]  \n",
       "1      {'airport_id': 2990.0, 'name': 'Kazan Internat...      False     [CR2]  \n",
       "2      {'airport_id': 2962.0, 'name': 'Mineralnyye Vo...      False     [CR2]  \n",
       "3      {'airport_id': 2990.0, 'name': 'Kazan Internat...      False     [CR2]  \n",
       "4      {'airport_id': 4078.0, 'name': 'Tolmachevo Air...      False     [CR2]  \n",
       "...                                                  ...        ...       ...  \n",
       "67658  {'airport_id': 3341.0, 'name': 'Adelaide Inter...      False     [SF3]  \n",
       "67659  {'airport_id': 2912.0, 'name': 'Manas Internat...      False     [734]  \n",
       "67660  {'airport_id': 4029.0, 'name': 'Domodedovo Int...      False     [734]  \n",
       "67661  {'airport_id': 2913.0, 'name': 'Osh Airport', ...      False     [734]  \n",
       "67662  {'airport_id': 2912.0, 'name': 'Manas Internat...      False     [734]  \n",
       "\n",
       "[67663 rows x 5 columns]"
      ]
     },
     "execution_count": 11,
     "metadata": {},
     "output_type": "execute_result"
    }
   ],
   "source": [
    "df"
   ]
  },
  {
   "cell_type": "code",
   "execution_count": 12,
   "metadata": {},
   "outputs": [],
   "source": [
    "partitions = (\n",
    "        ('A', 'A'), ('B', 'B'), ('C', 'D'), ('E', 'F'),\n",
    "        ('G', 'H'), ('I', 'J'), ('K', 'L'), ('M', 'M'),\n",
    "        ('N', 'N'), ('O', 'P'), ('Q', 'R'), ('S', 'T'),\n",
    "        ('U', 'U'), ('V', 'V'), ('W', 'X'), ('Y', 'Z')\n",
    ")"
   ]
  },
  {
   "cell_type": "code",
   "execution_count": null,
   "metadata": {},
   "outputs": [],
   "source": [
    "airline src_airport dst_airport (iata)"
   ]
  },
  {
   "cell_type": "code",
   "execution_count": 38,
   "metadata": {},
   "outputs": [
    {
     "data": {
      "text/plain": [
       "{'airline_id': 470,\n",
       " 'name': 'Air Burkina',\n",
       " 'alias': 'ANA All Nippon Airways',\n",
       " 'iata': '2J',\n",
       " 'icao': 'VBW',\n",
       " 'callsign': 'BURKINA',\n",
       " 'country': 'Burkina Faso',\n",
       " 'active': True}"
      ]
     },
     "execution_count": 38,
     "metadata": {},
     "output_type": "execute_result"
    }
   ],
   "source": [
    "df.iloc[100]['airline']"
   ]
  },
  {
   "cell_type": "code",
   "execution_count": 44,
   "metadata": {},
   "outputs": [
    {
     "data": {
      "text/plain": [
       "{'airport_id': 1084.0,\n",
       " 'name': 'Léopold Sédar Senghor International Airport',\n",
       " 'city': 'Dakar',\n",
       " 'country': 'Senegal',\n",
       " 'iata': 'DKR',\n",
       " 'icao': 'GOOY',\n",
       " 'latitude': 14.739700317382812,\n",
       " 'longitude': -17.49020004272461,\n",
       " 'altitude': 85.0,\n",
       " 'timezone': 0.0,\n",
       " 'dst': 'N',\n",
       " 'tz_id': 'Africa/Dakar',\n",
       " 'type': 'airport',\n",
       " 'source': 'OurAirports'}"
      ]
     },
     "execution_count": 44,
     "metadata": {},
     "output_type": "execute_result"
    }
   ],
   "source": [
    "df['dst_airport'][100]"
   ]
  },
  {
   "cell_type": "code",
   "execution_count": 47,
   "metadata": {},
   "outputs": [],
   "source": [
    "keys = []\n",
    "\n",
    "for i in range(len(df)):\n",
    "    try:\n",
    "        src = df['src_airport'][i]['iata']\n",
    "        dst = df['dst_airport'][i]['iata']\n",
    "        air = df['airline'][i]['iata']\n",
    "        res = (src + dst + air).upper()\n",
    "        keys.append(res)\n",
    "    except:\n",
    "        keys.append(pd.NaT)"
   ]
  },
  {
   "cell_type": "code",
   "execution_count": 80,
   "metadata": {},
   "outputs": [],
   "source": [
    "def keying(row):\n",
    "    try:\n",
    "        src = row['src_airport']['iata']\n",
    "        dst = row['dst_airport']['iata']\n",
    "        air = row['airline']['iata']\n",
    "        res = (src + dst + air).upper()\n",
    "        return(res)\n",
    "    except:\n",
    "        return(pd.NaT)"
   ]
  },
  {
   "cell_type": "code",
   "execution_count": 85,
   "metadata": {},
   "outputs": [],
   "source": [
    "df['key'] = df.apply(lambda row: keying(row), axis=1)"
   ]
  },
  {
   "cell_type": "code",
   "execution_count": 87,
   "metadata": {},
   "outputs": [
    {
     "data": {
      "text/plain": [
       "0        AERKZN2B\n",
       "1        ASFKZN2B\n",
       "2        ASFMRV2B\n",
       "3        CEKKZN2B\n",
       "4        CEKOVB2B\n",
       "           ...   \n",
       "67658    WYAADLZL\n",
       "67659    DMEFRUZM\n",
       "67660    FRUDMEZM\n",
       "67661    FRUOSSZM\n",
       "67662    OSSFRUZM\n",
       "Name: key, Length: 67663, dtype: object"
      ]
     },
     "execution_count": 87,
     "metadata": {},
     "output_type": "execute_result"
    }
   ],
   "source": [
    "df['key']"
   ]
  },
  {
   "cell_type": "code",
   "execution_count": 91,
   "metadata": {},
   "outputs": [
    {
     "data": {
      "text/plain": [
       "892"
      ]
     },
     "execution_count": 91,
     "metadata": {},
     "output_type": "execute_result"
    }
   ],
   "source": [
    "df['key'].isnull().sum()"
   ]
  },
  {
   "cell_type": "code",
   "execution_count": 94,
   "metadata": {},
   "outputs": [],
   "source": [
    "df = df.dropna(subset=['key'])"
   ]
  },
  {
   "cell_type": "code",
   "execution_count": 115,
   "metadata": {},
   "outputs": [],
   "source": [
    "def kv_keying(row):\n",
    "    k = row['key'][0]\n",
    "    if k in ['A', 'B', 'M', 'N', 'U', 'V']:\n",
    "        return(k)\n",
    "    elif k in ['C', 'D']:\n",
    "        return('C-D')\n",
    "    elif k in ['E', 'F']:\n",
    "        return('E-F')\n",
    "    elif k in ['G', 'H']:\n",
    "        return('G-F')\n",
    "    elif k in ['I', 'J']:\n",
    "        return('I-J')\n",
    "    elif k in ['K', 'L']:\n",
    "        return('K-L')\n",
    "    elif k in ['O', 'P']:\n",
    "        return('O-P')\n",
    "    elif k in ['Q', 'R']:\n",
    "        return('Q-R')\n",
    "    elif k in ['S', 'T']:\n",
    "        return('S-T')\n",
    "    elif k in ['W', 'X']:\n",
    "        return('W-X')\n",
    "    else:\n",
    "        return('Y-X')"
   ]
  },
  {
   "cell_type": "code",
   "execution_count": 116,
   "metadata": {},
   "outputs": [
    {
     "name": "stderr",
     "output_type": "stream",
     "text": [
      "<ipython-input-116-65f5d7b60829>:1: SettingWithCopyWarning: \n",
      "A value is trying to be set on a copy of a slice from a DataFrame.\n",
      "Try using .loc[row_indexer,col_indexer] = value instead\n",
      "\n",
      "See the caveats in the documentation: https://pandas.pydata.org/pandas-docs/stable/user_guide/indexing.html#returning-a-view-versus-a-copy\n",
      "  df['kv_key'] = df.apply(lambda row: kv_keying(row), axis=1)\n"
     ]
    }
   ],
   "source": [
    "df['kv_key'] = df.apply(lambda row: kv_keying(row), axis=1)"
   ]
  },
  {
   "cell_type": "code",
   "execution_count": 117,
   "metadata": {},
   "outputs": [
    {
     "data": {
      "text/plain": [
       "0          A\n",
       "1          A\n",
       "2          A\n",
       "3        C-D\n",
       "4        C-D\n",
       "        ... \n",
       "67658    W-X\n",
       "67659    C-D\n",
       "67660    E-F\n",
       "67661    E-F\n",
       "67662    O-P\n",
       "Name: kv_key, Length: 66771, dtype: object"
      ]
     },
     "execution_count": 117,
     "metadata": {},
     "output_type": "execute_result"
    }
   ],
   "source": [
    "df['kv_key']"
   ]
  },
  {
   "cell_type": "code",
   "execution_count": 118,
   "metadata": {},
   "outputs": [],
   "source": [
    "df.to_parquet(kv_dir, partition_cols=['kv_key'])"
   ]
  },
  {
   "cell_type": "code",
   "execution_count": null,
   "metadata": {},
   "outputs": [],
   "source": []
  },
  {
   "cell_type": "markdown",
   "metadata": {},
   "source": [
    "## 7b."
   ]
  },
  {
   "cell_type": "code",
   "execution_count": 125,
   "metadata": {},
   "outputs": [],
   "source": [
    "hash_dir = results_dir.joinpath('hash')\n",
    "hash_dir.mkdir(exist_ok=True, parents=True)"
   ]
  },
  {
   "cell_type": "code",
   "execution_count": 120,
   "metadata": {},
   "outputs": [],
   "source": [
    "def hash_key(key):\n",
    "    m = hashlib.sha256()\n",
    "    m.update(str(key).encode('utf-8'))\n",
    "    return(m.hexdigest())"
   ]
  },
  {
   "cell_type": "code",
   "execution_count": 128,
   "metadata": {},
   "outputs": [
    {
     "name": "stderr",
     "output_type": "stream",
     "text": [
      "<ipython-input-128-9fa354865aa9>:1: SettingWithCopyWarning: \n",
      "A value is trying to be set on a copy of a slice from a DataFrame.\n",
      "Try using .loc[row_indexer,col_indexer] = value instead\n",
      "\n",
      "See the caveats in the documentation: https://pandas.pydata.org/pandas-docs/stable/user_guide/indexing.html#returning-a-view-versus-a-copy\n",
      "  df['hashed'] = df['key'].apply(lambda key: hash_key(key))\n"
     ]
    }
   ],
   "source": [
    "df['hashed'] = df['key'].apply(lambda key: hash_key(key))"
   ]
  },
  {
   "cell_type": "code",
   "execution_count": 129,
   "metadata": {},
   "outputs": [
    {
     "data": {
      "text/plain": [
       "0     652cdec02010381f175efe499e070c8cbaac1522bac59a...\n",
       "1     9eea5dd88177f8d835b2bb9cb27fb01268122b635b241a...\n",
       "2     161143856af25bd4475f62c80c19f68936a139f653c1d3...\n",
       "3     39aa99e6ae2757341bede9584473906ef1089e30820c90...\n",
       "4     143b3389bce68eea3a13ac26a9c76c1fa583ec2bd26ea8...\n",
       "5     e4ec7b234cd26c4afd736cd49d1d02e4ec5f294f14533a...\n",
       "6     30114a9dc60716adbadf6c54124a899a66eea47335fdae...\n",
       "8     f763f8f658c0fb8dcedcf3b2ccbff0ac4e860cb0b96ef9...\n",
       "9     ac5c008dc056e24302f24c6b88b98f1cbe2044d8061699...\n",
       "10    dcbe3cf145ac9bd3ea56562a1db1ffdc40b8f2df3f3d84...\n",
       "11    499c88c21f634b9451cef6ac444363e8b705f0bde459eb...\n",
       "12    43c9d83e450469a16eba03dcb36531315a6a42d0860d6f...\n",
       "13    ab62e10ee3376ac964b8a97a41a00cb18df0d7309f1dfe...\n",
       "14    60b9791fe62049be32ac956c72b5883b2640d30baa2b41...\n",
       "15    e375d99f34f301d2faf031ac9a17f9730e91c485971a72...\n",
       "16    a55f0ed0b5f26db45f7f79b918484a78a33765446743c7...\n",
       "17    901fb634e21acaa4e449bc820f094de3f016231e134434...\n",
       "18    720a45cdc5864821d81b042e4e39764fa2ed56faa61e26...\n",
       "19    092e9ff69b9acc1c3f7eaa1a97dafb9169353772b37b8a...\n",
       "20    c4114249d8b7d7315c14270c5d8f6be8b5e39737e7972d...\n",
       "Name: hashed, dtype: object"
      ]
     },
     "execution_count": 129,
     "metadata": {},
     "output_type": "execute_result"
    }
   ],
   "source": [
    "df['hashed'].head(20)"
   ]
  },
  {
   "cell_type": "code",
   "execution_count": 130,
   "metadata": {},
   "outputs": [],
   "source": [
    "def hk(key):\n",
    "    return(key[0].title())"
   ]
  },
  {
   "cell_type": "code",
   "execution_count": 131,
   "metadata": {},
   "outputs": [
    {
     "name": "stderr",
     "output_type": "stream",
     "text": [
      "<ipython-input-131-ef75ad404273>:1: SettingWithCopyWarning: \n",
      "A value is trying to be set on a copy of a slice from a DataFrame.\n",
      "Try using .loc[row_indexer,col_indexer] = value instead\n",
      "\n",
      "See the caveats in the documentation: https://pandas.pydata.org/pandas-docs/stable/user_guide/indexing.html#returning-a-view-versus-a-copy\n",
      "  df['hash_key'] = df['hashed'].apply(lambda key: hk(key))\n"
     ]
    }
   ],
   "source": [
    "df['hash_key'] = df['hashed'].apply(lambda key: hk(key))"
   ]
  },
  {
   "cell_type": "code",
   "execution_count": 133,
   "metadata": {},
   "outputs": [
    {
     "data": {
      "text/plain": [
       "0     6\n",
       "1     9\n",
       "2     1\n",
       "3     3\n",
       "4     1\n",
       "5     E\n",
       "6     3\n",
       "8     F\n",
       "9     A\n",
       "10    D\n",
       "Name: hash_key, dtype: object"
      ]
     },
     "execution_count": 133,
     "metadata": {},
     "output_type": "execute_result"
    }
   ],
   "source": [
    "df['hash_key'].head(10)"
   ]
  },
  {
   "cell_type": "code",
   "execution_count": 134,
   "metadata": {},
   "outputs": [],
   "source": [
    "df.to_parquet(hash_dir, partition_cols=['hash_key'])"
   ]
  },
  {
   "cell_type": "code",
   "execution_count": null,
   "metadata": {},
   "outputs": [],
   "source": []
  },
  {
   "cell_type": "markdown",
   "metadata": {},
   "source": [
    "## 7c."
   ]
  },
  {
   "cell_type": "code",
   "execution_count": 170,
   "metadata": {},
   "outputs": [],
   "source": [
    "geo_dir = results_dir.joinpath('geo')\n",
    "geo_dir.mkdir(exist_ok=True, parents=True)"
   ]
  },
  {
   "cell_type": "code",
   "execution_count": 171,
   "metadata": {},
   "outputs": [],
   "source": [
    "west_code = pgh.encode(45.5945645, -121.1786823, precision=6)\n",
    "central_code = pgh.encode(41.1544433, -96.0422378, precision=6)\n",
    "east_code = pgh.encode(39.08344, -77.6497145, precision=6)"
   ]
  },
  {
   "cell_type": "code",
   "execution_count": 172,
   "metadata": {},
   "outputs": [
    {
     "name": "stdout",
     "output_type": "stream",
     "text": [
      "43.449902\n",
      "39.9566\n"
     ]
    }
   ],
   "source": [
    "print(df['src_airport'][0]['latitude'])\n",
    "print(df['src_airport'][0]['longitude'])"
   ]
  },
  {
   "cell_type": "code",
   "execution_count": 173,
   "metadata": {},
   "outputs": [],
   "source": [
    "def geograph(row):\n",
    "    lat = row['src_airport']['latitude']\n",
    "    lon = row['src_airport']['longitude']\n",
    "    geog = pgh.encode(lat, lon, precision=6)\n",
    "    return(geog)"
   ]
  },
  {
   "cell_type": "code",
   "execution_count": 174,
   "metadata": {},
   "outputs": [
    {
     "name": "stderr",
     "output_type": "stream",
     "text": [
      "<ipython-input-174-af39a1d41558>:1: SettingWithCopyWarning: \n",
      "A value is trying to be set on a copy of a slice from a DataFrame.\n",
      "Try using .loc[row_indexer,col_indexer] = value instead\n",
      "\n",
      "See the caveats in the documentation: https://pandas.pydata.org/pandas-docs/stable/user_guide/indexing.html#returning-a-view-versus-a-copy\n",
      "  df['geohash'] = df.apply(lambda row: geograph(row), axis=1)\n"
     ]
    }
   ],
   "source": [
    "df['geohash'] = df.apply(lambda row: geograph(row), axis=1)"
   ]
  },
  {
   "cell_type": "code",
   "execution_count": 175,
   "metadata": {},
   "outputs": [],
   "source": [
    "def geohashing_key(key):\n",
    "    dist = {}\n",
    "    west = pgh.geohash_approximate_distance(key, west_code)\n",
    "    central = pgh.geohash_approximate_distance(key, central_code)\n",
    "    east = pgh.geohash_approximate_distance(key, east_code)\n",
    "    dist['west'] = west\n",
    "    dist['central'] = central\n",
    "    dist['east'] = east\n",
    "    return(min(dist, key=dist.get))"
   ]
  },
  {
   "cell_type": "code",
   "execution_count": 176,
   "metadata": {},
   "outputs": [
    {
     "name": "stderr",
     "output_type": "stream",
     "text": [
      "<ipython-input-176-6febf3327c40>:1: SettingWithCopyWarning: \n",
      "A value is trying to be set on a copy of a slice from a DataFrame.\n",
      "Try using .loc[row_indexer,col_indexer] = value instead\n",
      "\n",
      "See the caveats in the documentation: https://pandas.pydata.org/pandas-docs/stable/user_guide/indexing.html#returning-a-view-versus-a-copy\n",
      "  df['geo_key'] = df['geohash'].apply(lambda row: geohashing_key(row))\n"
     ]
    }
   ],
   "source": [
    "df['geo_key'] = df['geohash'].apply(lambda row: geohashing_key(row))"
   ]
  },
  {
   "cell_type": "code",
   "execution_count": 177,
   "metadata": {},
   "outputs": [
    {
     "data": {
      "text/plain": [
       "west       51311\n",
       "east        9980\n",
       "central     5480\n",
       "Name: geo_key, dtype: int64"
      ]
     },
     "execution_count": 177,
     "metadata": {},
     "output_type": "execute_result"
    }
   ],
   "source": [
    "df['geo_key'].value_counts()"
   ]
  },
  {
   "cell_type": "code",
   "execution_count": 178,
   "metadata": {},
   "outputs": [],
   "source": [
    "df.to_parquet(geo_dir, partition_cols=['geo_key'])"
   ]
  },
  {
   "cell_type": "code",
   "execution_count": null,
   "metadata": {},
   "outputs": [],
   "source": []
  },
  {
   "cell_type": "markdown",
   "metadata": {},
   "source": [
    "## 7d."
   ]
  },
  {
   "cell_type": "code",
   "execution_count": null,
   "metadata": {},
   "outputs": [],
   "source": []
  },
  {
   "cell_type": "code",
   "execution_count": 233,
   "metadata": {},
   "outputs": [],
   "source": [
    "def balance_partitions(keys, num_partitions):\n",
    "    partitions = []\n",
    "    split_list = np.array_split(keys, num_partitions)\n",
    "    for l in split_list:\n",
    "        partitions.append(sorted(l))\n",
    "    return(partitions)"
   ]
  },
  {
   "cell_type": "code",
   "execution_count": 234,
   "metadata": {},
   "outputs": [],
   "source": [
    "listing1 = [5, 10, 25, 2, 6, 80, 4, 7, 40, 21, 18, 36, 57, 22, 200, 140, 17, 89, 81, 76]"
   ]
  },
  {
   "cell_type": "code",
   "execution_count": 236,
   "metadata": {},
   "outputs": [
    {
     "data": {
      "text/plain": [
       "[[2, 5, 10, 25],\n",
       " [4, 6, 7, 80],\n",
       " [18, 21, 40],\n",
       " [22, 36, 57],\n",
       " [17, 140, 200],\n",
       " [76, 81, 89]]"
      ]
     },
     "execution_count": 236,
     "metadata": {},
     "output_type": "execute_result"
    }
   ],
   "source": [
    "balance_partitions(listing1, 6)"
   ]
  },
  {
   "cell_type": "code",
   "execution_count": 237,
   "metadata": {},
   "outputs": [
    {
     "data": {
      "text/plain": [
       "[[2, 4, 5, 6, 7, 10, 21, 25, 40, 80],\n",
       " [17, 18, 22, 36, 57, 76, 81, 89, 140, 200]]"
      ]
     },
     "execution_count": 237,
     "metadata": {},
     "output_type": "execute_result"
    }
   ],
   "source": [
    "balance_partitions(listing1, 2)"
   ]
  },
  {
   "cell_type": "code",
   "execution_count": 238,
   "metadata": {},
   "outputs": [
    {
     "data": {
      "text/plain": [
       "[[5, 10, 25],\n",
       " [2, 6, 80],\n",
       " [4, 7, 40],\n",
       " [18, 21, 36],\n",
       " [22, 57],\n",
       " [140, 200],\n",
       " [17, 89],\n",
       " [76, 81]]"
      ]
     },
     "execution_count": 238,
     "metadata": {},
     "output_type": "execute_result"
    }
   ],
   "source": [
    "balance_partitions(listing1, 8)"
   ]
  },
  {
   "cell_type": "code",
   "execution_count": 239,
   "metadata": {},
   "outputs": [
    {
     "data": {
      "text/plain": [
       "[[2, 5, 6, 10, 25],\n",
       " [4, 7, 21, 40, 80],\n",
       " [18, 22, 36, 57, 200],\n",
       " [17, 76, 81, 89, 140]]"
      ]
     },
     "execution_count": 239,
     "metadata": {},
     "output_type": "execute_result"
    }
   ],
   "source": [
    "balance_partitions(listing1, 4)"
   ]
  },
  {
   "cell_type": "code",
   "execution_count": null,
   "metadata": {},
   "outputs": [],
   "source": []
  }
 ],
 "metadata": {
  "kernelspec": {
   "display_name": "Python 3",
   "language": "python",
   "name": "python3"
  },
  "language_info": {
   "codemirror_mode": {
    "name": "ipython",
    "version": 3
   },
   "file_extension": ".py",
   "mimetype": "text/x-python",
   "name": "python",
   "nbconvert_exporter": "python",
   "pygments_lexer": "ipython3",
   "version": "3.8.6"
  }
 },
 "nbformat": 4,
 "nbformat_minor": 5
}
